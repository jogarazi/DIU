{
 "cells": [
  {
   "cell_type": "markdown",
   "metadata": {},
   "source": [
    "# Problème du sac à dos"
   ]
  },
  {
   "cell_type": "markdown",
   "metadata": {},
   "source": [
    "## 1. Introduction"
   ]
  },
  {
   "cell_type": "markdown",
   "metadata": {},
   "source": [
    "Voir diaporama.\n",
    "\n",
    "L'objectif est que les élèves manipulent, expliquent leurs démarches et découvrent eux-mêmes les algorithmes à programmer."
   ]
  },
  {
   "cell_type": "markdown",
   "metadata": {},
   "source": [
    "### Déclaration des variables et création d'une liste d'objets aléatoires\n",
    "Le code suivant propose une création aléatoire d'une liste de $n$ objets permettant de tester les codes qui suivent."
   ]
  },
  {
   "cell_type": "code",
   "execution_count": 4,
   "metadata": {},
   "outputs": [
    {
     "name": "stdout",
     "output_type": "stream",
     "text": [
      "[(9, 2), (6, 6), (3, 5), (2, 3), (2, 6), (7, 8), (2, 2), (1, 7), (4, 2), (6, 4), (7, 10), (3, 6), (2, 6), (5, 5), (3, 1), (4, 2), (7, 5), (1, 10), (9, 1), (5, 10)]\n"
     ]
    }
   ],
   "source": [
    "import random as rd\n",
    "\n",
    "w = 30 # Poids maximum contenant dans le sac\n",
    "n = 20 # nombre d'objets disponibles\n",
    "vmax = 10 # valeur maximale d'un objet\n",
    "pmax = 10 # poids maximal d'un objet\n",
    "\n",
    "objets = [(rd.randrange(vmax)+1, rd.randrange(pmax)+1) for i in range(n)]\n",
    "print(objets)"
   ]
  },
  {
   "cell_type": "markdown",
   "metadata": {},
   "source": [
    "## 2. Algorithme de force brute\n",
    "On teste toutes les combinaisons possibles.\n",
    "Nous avons choisi d'identifier une combinaison de $n$ objets par un nombre en binaire à $n$ chiffres, chaque chiffre indiquant si l'objet correspondant est sélectionné dans la combinaison ou pas."
   ]
  },
  {
   "cell_type": "code",
   "execution_count": 5,
   "metadata": {},
   "outputs": [],
   "source": [
    "def forceBrute(objets,w):\n",
    "    \"\"\"\n",
    "    Résolution du problème du sac à dos par force brute\n",
    "    objets est une liste d'objets du type (poids,valeur)\n",
    "    w est le poids maximum entrant dans le sac\n",
    "    Un nombre en binaire permet d'indiquer quels objets sont sélectionnés.\n",
    "    \"\"\"\n",
    "    combinaison = -1\n",
    "    n = len(objets)\n",
    "    valeurmax = 0\n",
    "    combinaisonmax = 0\n",
    "    for i in range(2**n):\n",
    "        poids = 0\n",
    "        valeur = 0\n",
    "        combinaison += 1\n",
    "        combiBinaire = bin(combinaison)[2:]\n",
    "        combiBinaire = (n-len(combiBinaire))*'0'+combiBinaire # avec n chiffres\n",
    "        for j in range(n):\n",
    "            if combiBinaire[j]=='1':\n",
    "                poids += objets[j][1]\n",
    "                if poids > w:\n",
    "                    break\n",
    "                valeur += objets[j][0]\n",
    "        else:\n",
    "            if valeur > valeurmax:\n",
    "                valeurmax = valeur\n",
    "                combinaisonmax = combiBinaire\n",
    "    contenuSac = []\n",
    "    for j in range(n):\n",
    "        if combinaisonmax[j]=='1':\n",
    "            contenuSac.append(objets[j])\n",
    "    return valeurmax, contenuSac"
   ]
  },
  {
   "cell_type": "code",
   "execution_count": 7,
   "metadata": {},
   "outputs": [
    {
     "name": "stdout",
     "output_type": "stream",
     "text": [
      "(55, [(9, 2), (6, 6), (2, 2), (4, 2), (6, 4), (5, 5), (3, 1), (4, 2), (7, 5), (9, 1)])\n"
     ]
    }
   ],
   "source": [
    "print(forceBrute(objets,w))"
   ]
  },
  {
   "cell_type": "markdown",
   "metadata": {},
   "source": [
    "__Q1. Quelle est, en fonction de $n$, la complexité de l'algorithme précédent ?__"
   ]
  },
  {
   "cell_type": "markdown",
   "metadata": {},
   "source": [
    "**Réponse**\n",
    "\n",
    "$2^n$ combinaisons ; pour chaque combinaison, les opérations effectuées (conversion en binaire, ajout d'au plus $n$ zéros, une boucle contenant des opérations en temps constant) sont au plus en temps linéaire.\n",
    "\n",
    "La complexité de cet algorithme est donc en $O(2^n \\times n)$.\n"
   ]
  },
  {
   "cell_type": "markdown",
   "metadata": {},
   "source": [
    "__Q2. Estimer le temps de calcul de l'algorithme de force brute si on dispose de 50 objets ? 100 objets ?__"
   ]
  },
  {
   "cell_type": "markdown",
   "metadata": {},
   "source": [
    "__Réponse__\n",
    "\n",
    "Le nombre d'opérations élémentaires est de l'ordre de $2^{50} \\times 50 \\approx 5 \\times 10^{16}$.\n",
    "\n",
    "Un ordinateur actuel réalise de l'ordre de $10^9$ opérations élémentaires par seconde (fréquence de l'ordre du Ghz).\n",
    "\n",
    "Il faudra donc de l'ordre de $5 \\times 10^{7}$ secondes, soit environ 2 ans.\n",
    "\n",
    "_Remarque_ : il s'agit juste d'un ordre de grandeur puisque ces calculs sont effectués à une constante multiplicative près.\n",
    "\n",
    "Avec 100 objets, il faut de l'ordre de $10^{32}$ opérations, soit $10^{23}$ secondes, environ un million de millards d'années !"
   ]
  },
  {
   "cell_type": "markdown",
   "metadata": {},
   "source": [
    "## 3. Exemples d'algorithmes gloutons"
   ]
  },
  {
   "cell_type": "markdown",
   "metadata": {},
   "source": [
    "### Exemple 1\n",
    "\n",
    "On remplit le sac à dos en mettant d'abord les objets de plus grande valeur, jusqu'à ce que plus aucun objet ne rentre dans le sac.\n",
    "\n",
    "__Q3. Pratiquer à la main avec un \"sac à dos\" et des plaques \"objets\".__\n",
    "\n",
    "__Q4. Programmer cet algorithme.__ \n",
    "On pourra utiliser la fonction tri donnée, ou la faire reprogrammer par les élèves ou utiliser la fonction Python $sorted$ ."
   ]
  },
  {
   "cell_type": "code",
   "execution_count": 68,
   "metadata": {},
   "outputs": [],
   "source": [
    "\"\"\"\n",
    "Tri rapide avec pivot aléatoire\n",
    "A remplacer par un tri sélection/insertion en première,\n",
    "ou utiliser la fonction sorted() de Python\n",
    "\"\"\"\n",
    "def tri(lst):\n",
    "    if len(lst) <= 1:\n",
    "        return lst\n",
    "    indice_pivot = rd.randrange(len(lst))\n",
    "    pivot = lst[indice_pivot]\n",
    "    lst1 = []\n",
    "    lst2 = []\n",
    "    for i in range(indice_pivot):\n",
    "        x = lst[i]\n",
    "        if x<pivot: lst1.append(x)\n",
    "        else: lst2.append(x)\n",
    "    for i in range(indice_pivot+1, len(lst)):\n",
    "        x = lst[i]\n",
    "        if x<pivot: lst1.append(x)\n",
    "        else: lst2.append(x)\n",
    "    return tri(lst1)+[pivot]+tri(lst2)"
   ]
  },
  {
   "cell_type": "code",
   "execution_count": 69,
   "metadata": {},
   "outputs": [],
   "source": [
    "def glouton1(objets,w):\n",
    "    \"\"\"\n",
    "    Résolution du problème du sac à dos \n",
    "    On met en priorité les objets de plus grosse valeur\n",
    "    \"\"\"\n",
    "    contenuSac = []\n",
    "    valeur = 0\n",
    "\n",
    "    return valeur, contenuSac"
   ]
  },
  {
   "cell_type": "markdown",
   "metadata": {},
   "source": [
    "__Réponse__"
   ]
  },
  {
   "cell_type": "code",
   "execution_count": 70,
   "metadata": {},
   "outputs": [],
   "source": [
    "def glouton1(objets,w):\n",
    "    \"\"\"\n",
    "    Résolution du problème du sac à dos \n",
    "    On met en priorité les objets de plus grosse valeur\n",
    "    \"\"\"\n",
    "    objetsTries = tri(objets)\n",
    "    contenuSac = []\n",
    "    valeur = 0\n",
    "    poids = 0\n",
    "    while poids < w and objetsTries:\n",
    "        v, p = objetsTries.pop()\n",
    "        if poids + p <= w:\n",
    "            valeur += v\n",
    "            poids += p\n",
    "            contenuSac.append((v,p))\n",
    "    return valeur, contenuSac"
   ]
  },
  {
   "cell_type": "code",
   "execution_count": 71,
   "metadata": {},
   "outputs": [
    {
     "data": {
      "text/plain": [
       "(61, [(10, 4), (10, 4), (9, 3), (9, 2), (8, 8), (8, 7), (7, 2)])"
      ]
     },
     "execution_count": 71,
     "metadata": {},
     "output_type": "execute_result"
    }
   ],
   "source": [
    "glouton1(objets,w)"
   ]
  },
  {
   "cell_type": "markdown",
   "metadata": {},
   "source": [
    "__Q5. Quelle est la complexité de cet algorithme ?__"
   ]
  },
  {
   "cell_type": "markdown",
   "metadata": {},
   "source": [
    "__Réponse__\n",
    "La complexité de l'algorithme est égale à celle tri utilisé, $O(n \\times ln(n))$ pour le tri rapide et $O(n^2)$ pour les tris utilisés par les élèves en première (sélection et insertion), en supposant qu'on n'est pas dans le meilleur des cas ... le reste de l'algorithme est en temps linéaire (un parcours de liste) donc négligeable devant le tri."
   ]
  },
  {
   "cell_type": "markdown",
   "metadata": {},
   "source": [
    "__Q6. Comparer les deux algorithmes (force brute et glouton1).__"
   ]
  },
  {
   "cell_type": "markdown",
   "metadata": {},
   "source": [
    "__Réponse__ L'algorithme glouton est beaucoup plus rapide mais ne renvoie pas toujours la solution optimale. On peut évaluer son pourcentage de succès, qui doit évoluer selon les paramètres, notamment le nombre d'objets $n$."
   ]
  },
  {
   "cell_type": "markdown",
   "metadata": {},
   "source": [
    "### Exemple 2\n",
    "\n",
    "On remplit le sac à dos en mettant d'abord les objets avec le meilleur rapport valeur/poids, jusqu'à ce que plus aucun objet ne rentre dans le sac.\n",
    "\n",
    "__Q7. Pratiquer à la main avec un \"sac à dos\" et des plaques \"objets\".__\n",
    "\n",
    "__Q8. Programmer cet algorithme.__ "
   ]
  },
  {
   "cell_type": "code",
   "execution_count": 72,
   "metadata": {},
   "outputs": [],
   "source": [
    "def glouton2(objets,w):\n",
    "    \"\"\"\n",
    "    Résolution du problème du sac à dos \n",
    "    On met en priorité les objets de meilleur rapport valeur/poids\n",
    "    \"\"\"\n",
    "    contenuSac = []\n",
    "    valeur = 0\n",
    "\n",
    "    return valeur, contenuSac"
   ]
  },
  {
   "cell_type": "markdown",
   "metadata": {},
   "source": [
    "__Réponse__"
   ]
  },
  {
   "cell_type": "code",
   "execution_count": 73,
   "metadata": {},
   "outputs": [],
   "source": [
    "def glouton2(objets,w):\n",
    "    \"\"\"\n",
    "    Résolution du problème du sac à dos \n",
    "    On met en priorité les objets de meilleur rapport valeur/poids\n",
    "    \"\"\"\n",
    "    objets2 = [(v/p, v, p) for (v, p) in objets]\n",
    "    objetsTries = tri(objets2)\n",
    "    contenuSac = []\n",
    "    valeur = 0\n",
    "    poids = 0\n",
    "    while poids < w and objetsTries:\n",
    "        t, v, p = objetsTries.pop()\n",
    "        if poids + p <= w:\n",
    "            valeur += v\n",
    "            poids += p\n",
    "            contenuSac.append((v,p))\n",
    "    return valeur, contenuSac"
   ]
  },
  {
   "cell_type": "code",
   "execution_count": 74,
   "metadata": {},
   "outputs": [
    {
     "data": {
      "text/plain": [
       "(70,\n",
       " [(9, 2), (7, 2), (7, 2), (9, 3), (10, 4), (10, 4), (8, 4), (4, 3), (6, 5)])"
      ]
     },
     "execution_count": 74,
     "metadata": {},
     "output_type": "execute_result"
    }
   ],
   "source": [
    "glouton2(objets,w)"
   ]
  },
  {
   "cell_type": "markdown",
   "metadata": {},
   "source": [
    "__Q9. Comparer les trois algorithmes.__"
   ]
  },
  {
   "cell_type": "markdown",
   "metadata": {},
   "source": [
    "__Réponse__\n",
    "L'algorithme $glouton2$ est de même complexité que $glouton1$ puisqu'on rajoute juste une construction de liste en temps linéaire avant le tri.\n",
    "\n",
    "Après plusieurs tests, $glouton2$ semble généralement plus efficace que $glouton1$ mais ce n'est pas systématique."
   ]
  },
  {
   "cell_type": "markdown",
   "metadata": {},
   "source": [
    "__Q10. Ecrire une fonction $glouton3$ renvoyant le meilleur résultat des deux fonctions $glouton1$ et $glouton2$.__"
   ]
  },
  {
   "cell_type": "code",
   "execution_count": null,
   "metadata": {},
   "outputs": [],
   "source": []
  },
  {
   "cell_type": "markdown",
   "metadata": {},
   "source": [
    "__Réponse__"
   ]
  },
  {
   "cell_type": "code",
   "execution_count": 75,
   "metadata": {},
   "outputs": [
    {
     "data": {
      "text/plain": [
       "(70,\n",
       " [(9, 2), (7, 2), (7, 2), (9, 3), (10, 4), (10, 4), (8, 4), (4, 3), (6, 5)])"
      ]
     },
     "execution_count": 75,
     "metadata": {},
     "output_type": "execute_result"
    }
   ],
   "source": [
    "def glouton3(objets,w):\n",
    "    res1 = glouton1(objets,w)\n",
    "    res2 = glouton2(objets,w)\n",
    "    return res1 if res1[0] > res2[0] else res2\n",
    "\n",
    "glouton3(objets,w)"
   ]
  },
  {
   "cell_type": "markdown",
   "metadata": {},
   "source": [
    "__Q11. Quelle est la complexité de l'algorithme $glouton3$ ?__"
   ]
  },
  {
   "cell_type": "markdown",
   "metadata": {},
   "source": [
    "__Réponse__\n",
    "Même complexité que $glouton1$ et $glouton2$."
   ]
  },
  {
   "cell_type": "markdown",
   "metadata": {},
   "source": [
    "## 4. Programmation dynamique (cours de terminale)"
   ]
  },
  {
   "cell_type": "markdown",
   "metadata": {},
   "source": [
    "### 4.1. Présentation\n",
    "On propose un algorithme, dit de programmation dynamique, pour déterminer la solution optimale du problème du sac à dos. On suppose les objets numérotés de $1$ à $n$.\n",
    "1. Construire un tableau à $n+1$ lignes et $w+1$ colonnes, où $n$ est le nombre d'objets et $w$ le poids maximum contenant dans le sac à dos. L'élément situé ligne $i$ colonne $j$ indique la valeur maximale que l'on peut atteindre avec les objets $1$ à $i$ et un poids total inférieur ou égal à $j$.\n",
    "2. Compléter la première ligne (ligne numéro 0) avec des 0 (avec 0 objet, la valeur est égale à 0).\n",
    "3. Compléter la deuxième ligne (ligne numéro 1) en inscrivant dans la colonne $j$, correspondant à un poids $j$, la valeur de l'objet $1$ si son poids est inférieur (ou égal) à $j$ et $0$ dans le cas contraire.\n",
    "4. Ayant complété les $i$ premières lignes, on complète chaque case de la ligne $i + 1$ de la manière suivante. On a deux options pour compléter la $j$-ième colonne :\n",
    "    * ou bien on ne met pas le $(i+1)$-ième objet dans le sac, on prend alors la meilleure solution avec $i$ objets : on recopie la valeur écrite dans la ligne précédente\n",
    "    * ou bien on met le $(i+1)$-ième objet dans le sac et comme il occupe un poids $p$, il reste de disponible un poids de $(j-p)$. On complète alors le sac de la meilleure manière possible : avec les $i$ premiers objets optimisant la valeur optimale pour un poids de $(j-p)$. On inscrit alors la somme de la valeur du $(i+1)$-ième objet et de la valeur inscrite ligne $i$ colonne $(j-p)$.\n",
    "    \n",
    "    On choisit la meilleure des deux."
   ]
  },
  {
   "cell_type": "code",
   "execution_count": 81,
   "metadata": {},
   "outputs": [
    {
     "data": {
      "text/html": [
       "<table><tr><td> </td><td>0</td><td>1</td><td>2</td><td>3</td><td>4</td><td>5</td><td>6</td><td>7</td><td>8</td><td>9</td><td>10</td></tr><tr><td>0</td><td> </td><td> </td><td> </td><td> </td><td> </td><td> </td><td> </td><td> </td><td> </td><td> </td><td> </td></tr><tr><td>1</td><td> </td><td> </td><td> </td><td> </td><td> </td><td> </td><td> </td><td> </td><td> </td><td> </td><td> </td></tr><tr><td>2</td><td> </td><td> </td><td> </td><td> </td><td> </td><td> </td><td> </td><td> </td><td> </td><td> </td><td> </td></tr><tr><td>3</td><td> </td><td> </td><td> </td><td> </td><td> </td><td> </td><td> </td><td> </td><td> </td><td> </td><td> </td></tr><tr><td>4</td><td> </td><td> </td><td> </td><td> </td><td> </td><td> </td><td> </td><td> </td><td> </td><td> </td><td> </td></tr><tr><td>5</td><td> </td><td> </td><td> </td><td> </td><td> </td><td> </td><td> </td><td> </td><td> </td><td> </td><td> </td></tr><tr><td>6</td><td> </td><td> </td><td> </td><td> </td><td> </td><td> </td><td> </td><td> </td><td> </td><td> </td><td> </td></tr></table>"
      ],
      "text/plain": [
       "<IPython.core.display.HTML object>"
      ]
     },
     "metadata": {},
     "output_type": "display_data"
    }
   ],
   "source": [
    "# ignorer le code suivant qui ne sert qu'à dessiner le tableau dans Jupyter !\n",
    "\n",
    "from IPython.display import HTML, display\n",
    "    \n",
    "\n",
    "data = [[' ']+[j for j in range(11)]]\n",
    "for i in range(7):\n",
    "    data += [[i]+[' ' for j in range(11)]]\n",
    "\n",
    "display(HTML(\n",
    "       '<table><tr>{}</tr></table>'.format(\n",
    "           '</tr><tr>'.join(\n",
    "               '<td>{}</td>'.format('</td><td>'.join(str(_) for _ in row)) for row in data)\n",
    "           )\n",
    "    ))"
   ]
  },
  {
   "cell_type": "markdown",
   "metadata": {},
   "source": [
    "### 4.2. Activité manuelle\n",
    "__Q12. Exercice__ \n",
    "\n",
    "__Tester sur papier l'algorithme précédent avec un sac à dos de contenance maximale égale à 10 kg dans les deux cas suivants :__\n",
    "\n",
    "1. objets = [(3, 2), (8, 10), (2, 2), (8, 1), (4, 6), (6, 6)] \n",
    "2. objets = [(5, 3), (9, 2), (10, 5), (6, 4), (7, 1), (9, 3)]\n",
    "\n",
    "Les objets sont au format (valeur, poids)."
   ]
  },
  {
   "cell_type": "markdown",
   "metadata": {},
   "source": [
    "### 4.3 Programmation"
   ]
  },
  {
   "cell_type": "markdown",
   "metadata": {},
   "source": [
    "__Q13. Programmer en Python, en l'adaptant aux variables utilisées dans les fonctions précédentes, l'algorithme de programmation dynamique donné sur la page [Wikipedia](https://fr.wikipedia.org/wiki/Probl%C3%A8me_du_sac_%C3%A0_dos#Programmation_dynamique).__\n"
   ]
  },
  {
   "cell_type": "code",
   "execution_count": null,
   "metadata": {},
   "outputs": [],
   "source": []
  },
  {
   "cell_type": "markdown",
   "metadata": {},
   "source": [
    "__Réponse__"
   ]
  },
  {
   "cell_type": "code",
   "execution_count": 1,
   "metadata": {},
   "outputs": [
    {
     "data": {
      "text/plain": [
       "[[0, 0, 0, 0, 0, 0, 0, 0, 0],\n",
       " [0, 0, 0, 15, 15, 15, 15, 15, 15],\n",
       " [0, 0, 0, 15, 18, 18, 18, 33, 33],\n",
       " [0, 0, 0, 15, 18, 20, 20, 33, 35],\n",
       " [0, 0, 0, 15, 18, 20, 20, 33, 35],\n",
       " [0, 0, 6, 15, 18, 21, 24, 33, 35]]"
      ]
     },
     "execution_count": 1,
     "metadata": {},
     "output_type": "execute_result"
    }
   ],
   "source": [
    "def dynamique(objets,w):\n",
    "    \"\"\"\n",
    "    Résolution du problème du sac à dos\n",
    "    par programmation dynamique\n",
    "    \"\"\"\n",
    "    n = len(objets)\n",
    "    tab = [ [0]*(w + 1) for i in range(n + 1)]\n",
    "    for i in range(n):\n",
    "        for c in range(w + 1):\n",
    "            v, p = objets[i]\n",
    "            if c >= p:\n",
    "                tab[i + 1][c] = max(tab[i][c], tab[i][c-p] + v)\n",
    "            else:\n",
    "                tab[i + 1][c] = tab[i][c]\n",
    "    return tab\n",
    "objets=[(15,3),(18,4),(20,5),(12,4),(6,2)]\n",
    "dynamique(objets,8)"
   ]
  },
  {
   "cell_type": "markdown",
   "metadata": {},
   "source": [
    "__Q14. En utilisant les tableaux réalisés dans la question Q12, déterminer dans chacun des deux cas le contenu du sac à dos réalisant la valeur maximale. Expliquer votre démarche.__"
   ]
  },
  {
   "cell_type": "markdown",
   "metadata": {},
   "source": [
    "__Q15. Écrire une fonction permettant de reconstituer le contenu du sac à dos correspondant à la solution optimale à partir du tableau renvoyé par la fonction $dynamique$.__"
   ]
  },
  {
   "cell_type": "code",
   "execution_count": null,
   "metadata": {},
   "outputs": [],
   "source": []
  },
  {
   "cell_type": "markdown",
   "metadata": {},
   "source": [
    "__Réponse__"
   ]
  },
  {
   "cell_type": "code",
   "execution_count": 78,
   "metadata": {},
   "outputs": [],
   "source": [
    "def solutionDynamique(tab,objets):\n",
    "    \"\"\"\n",
    "    Reconstitue la liste d'objets à partir du tableau\n",
    "    renvoyé par la fonction dynamique\n",
    "    \"\"\"\n",
    "    i = len(tab) - 1  # égal à len(objets)\n",
    "    j = len(tab[0]) - 1   \n",
    "    contenuSac = []\n",
    "    valeur = tab[i][j]\n",
    "    while i > 0:\n",
    "        if tab[i - 1][j] == tab[i][j]:\n",
    "            pass # l'objet i n'est pas dans le sac\n",
    "        else:\n",
    "            v, p = objets[i - 1]\n",
    "            contenuSac.append((v, p))\n",
    "            j = j - p\n",
    "        i = i - 1\n",
    "    return valeur,contenuSac"
   ]
  },
  {
   "cell_type": "code",
   "execution_count": 79,
   "metadata": {},
   "outputs": [
    {
     "data": {
      "text/plain": [
       "(70,\n",
       " [(9, 2), (10, 4), (10, 4), (9, 3), (4, 3), (7, 2), (7, 2), (6, 5), (8, 4)])"
      ]
     },
     "execution_count": 79,
     "metadata": {},
     "output_type": "execute_result"
    }
   ],
   "source": [
    "solutionDynamique( dynamique(objets,w), objets)"
   ]
  },
  {
   "cell_type": "markdown",
   "metadata": {},
   "source": [
    "__Q16. Quelle est la complexité de l'algorithme de programmation dynamique ?__"
   ]
  },
  {
   "cell_type": "code",
   "execution_count": null,
   "metadata": {},
   "outputs": [],
   "source": []
  },
  {
   "cell_type": "markdown",
   "metadata": {},
   "source": [
    "__Réponse__\n",
    "La fonction $dynamique$ a une complexité égale au nombre de cases du tableau, donc en $O(w \\times n)$.\n",
    "La fonction $solutionDynamique$ a une complexité en $O(n)$ (une boucle). La complexité totale de cet algorithme est donc en $O(w \\times n)$."
   ]
  },
  {
   "cell_type": "markdown",
   "metadata": {},
   "source": [
    "## Exemple\n",
    "$\\begin{array}{|l|lllll|}\n",
    "    \\hline\n",
    "    i & 1 & 2 & 3 & 4 & 5\\\\\n",
    "    \\hline\n",
    "    v_i & 15 & 18 & 20 & 12 & 6\\\\\n",
    "    \\hline\n",
    "    p_i & 3 & 4 & 5 & 4 & 2\\\\\n",
    "    \\hline\n",
    "  \\end{array}$\n",
    "  \n",
    "On fixe une limite de poids à 8 kg\n",
    "\n",
    "  $\\begin{array}{|l|l|l|l|l|l|l|l|l|l|l|}\n",
    "        \\hline\n",
    "         & p & 0  & 1 & 2 & 3 & 4 & 5 & 6 & 7 & 8 \\\\\n",
    "        \\hline\n",
    "        0 & 0 & 0 & 0 & 0 & 0 & 0 & 0 & 0 & 0 & 0 \\\\\n",
    "        \\hline\n",
    "        1 & 3 & 0 & 0 & 0 & 15 & 15 & 15 & 15 & 15 & 15 \\\\\n",
    "        \\hline\n",
    "        2 & 4 & 0 & 0 & 0 & 15 & 18 & 18 & 18 & 33 & 33 \\\\\n",
    "        \\hline\n",
    "        3 & 5 & 0 & 0 & 0 & 15 & 18 & 20 & 20 & 33 & 35 \\\\\n",
    "        \\hline\n",
    "        4 & 4 & 0 & 0 & 0 & 15 & 18 & 20 & 20 & 33 & 35 \\\\\n",
    "        \\hline\n",
    "        5 & 2 & 0 & 0 & 6 & 15 & 18 & 21 & 24 & 33 & 35 \\\\\n",
    "        \\hline\n",
    "    \\end{array}$"
   ]
  },
  {
   "cell_type": "markdown",
   "metadata": {},
   "source": [
    "Le problème du sac à dos possède la propriété de sous-structure optimale, c'est à dire que l'on peut construire la solution optimale du problème à $k$ variables à partir du $k-1$ variable.\n",
    "\n",
    "## Propriété : \n",
    "Soit $F_k(E)$ le meilleur coût pour remplir un sac de taille $E$ avec les $k$ premiers objets.\n",
    "On peut montrer par récurrence :\n",
    "\n",
    "$$F_k(E) = \\max\\{F_{k-1}(E),F_{k-1}(E-p_k)+v_k\\}$$\n",
    "\n",
    "En effet, l'ajout d'un nouvel objet augmente ou non le meilleur coût :\n",
    "\n",
    "- soit l'objet n'est pas rajouté dans le sac. On a alors, $F_k(E)=F_{k-1}(E)$\n",
    "- soit $w_k \\leqslant E$. On a alors, $F_k(E)=\\max(F_{k-1}(E),F_{k-1}(E-w_k)+v_k)$"
   ]
  },
  {
   "cell_type": "code",
   "execution_count": null,
   "metadata": {},
   "outputs": [],
   "source": [
    "\n"
   ]
  }
 ],
 "metadata": {
  "kernelspec": {
   "display_name": "Python 3",
   "language": "python",
   "name": "python3"
  },
  "language_info": {
   "codemirror_mode": {
    "name": "ipython",
    "version": 3
   },
   "file_extension": ".py",
   "mimetype": "text/x-python",
   "name": "python",
   "nbconvert_exporter": "python",
   "pygments_lexer": "ipython3",
   "version": "3.7.3"
  }
 },
 "nbformat": 4,
 "nbformat_minor": 2
}
